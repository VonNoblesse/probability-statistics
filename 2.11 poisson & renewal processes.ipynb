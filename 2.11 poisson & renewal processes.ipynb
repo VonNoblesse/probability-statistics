{
 "cells": [
  {
   "cell_type": "code",
   "execution_count": 2,
   "id": "c7e1c5b1-24a9-4b51-b3b6-7d9093baa2cd",
   "metadata": {},
   "outputs": [],
   "source": [
    "import numpy as np\n",
    "import scipy \n",
    "import matplotlib.pyplot as plt\n",
    "import pandas as pd"
   ]
  },
  {
   "cell_type": "code",
   "execution_count": 50,
   "id": "a3e3e5b9-bb16-4fea-a6e4-a0f9e082e77e",
   "metadata": {},
   "outputs": [
    {
     "name": "stdout",
     "output_type": "stream",
     "text": [
      "матожидание:\n",
      " 0.5 \n",
      "\n",
      "средняя длина для момента t = 100:\n",
      " 0.992 \n",
      "\n",
      "эксцесс для момента t = 100:\n",
      " 0.472 \n",
      "\n"
     ]
    }
   ],
   "source": [
    "#1 (a)\n",
    "#параметры\n",
    "l = 2\n",
    "t = 100\n",
    "N = 100\n",
    "average_100 = np.zeros(N)\n",
    "excess_100 = np.zeros(N)\n",
    "\n",
    "#процесс\n",
    "for i in range(N):\n",
    "    s = 0\n",
    "    while s < t:\n",
    "        X = scipy.stats.expon.rvs(scale=1/l)\n",
    "        s += X\n",
    "    average_100[i] = X\n",
    "    excess_100[i] = s-100\n",
    "\n",
    "average_100 = np.mean(average_100)\n",
    "excess_100 = np.mean(excess_100)\n",
    "E = 1/l\n",
    "print('матожидание:\\n',E,'\\n')\n",
    "print('средняя длина для момента t = 100:\\n',round(average_100,3),'\\n')\n",
    "print('эксцесс для момента t = 100:\\n',round(excess_100,3),'\\n')"
   ]
  },
  {
   "cell_type": "code",
   "execution_count": 3,
   "id": "42eca7e4-9d00-4bcc-8f05-2a67324f861a",
   "metadata": {},
   "outputs": [
    {
     "name": "stdout",
     "output_type": "stream",
     "text": [
      "[-4.75538556e+00 -4.74244861e+00 -4.68300442e+00 -4.53257308e+00\n",
      " -4.16072146e+00 -3.81986440e+00 -3.74780236e+00 -3.65182600e+00\n",
      " -3.50176519e+00 -2.57711589e+00 -2.51720372e+00 -2.01842894e+00\n",
      " -1.65964550e+00 -1.46386062e+00 -1.26450352e+00 -9.99453595e-01\n",
      " -7.82635610e-01 -3.89681309e-01 -6.26153976e-03  4.44726448e-01\n",
      "  6.38495381e-01  1.05121867e+00  1.18352736e+00  1.39959367e+00\n",
      "  1.90183090e+00  2.41280732e+00  2.47849089e+00  2.55170583e+00\n",
      "  2.96650939e+00  4.56356880e+00  4.56550851e+00  5.51021915e+00\n",
      "  5.55367318e+00  5.63163346e+00  5.72733263e+00  6.37026741e+00\n",
      "  6.67180315e+00  6.80300513e+00  7.07963593e+00  7.13104824e+00\n",
      "  7.35528234e+00  7.50548455e+00  8.85130728e+00  8.97512622e+00\n",
      "  8.99197314e+00  9.54743530e+00  9.60202069e+00  9.69972372e+00\n",
      "  9.74415921e+00  9.77925280e+00  9.95700324e+00  1.01234879e+01\n",
      "  1.09407833e+01  1.10641119e+01  1.18012703e+01  1.18644255e+01\n",
      "  1.21471791e+01  1.23711061e+01  1.25880454e+01  1.26352567e+01\n",
      "  1.28913810e+01  1.35057909e+01  1.39948713e+01  1.41650016e+01\n",
      "  1.45980316e+01  1.46559537e+01  1.50582464e+01  1.52510743e+01\n",
      "  1.59447017e+01  1.60117670e+01  1.64583508e+01  1.69909328e+01\n",
      "  1.73086463e+01  1.76633939e+01  1.82047917e+01  1.85243006e+01\n",
      "  1.89570021e+01  1.99317802e+01]\n",
      "равномерны\n"
     ]
    }
   ],
   "source": [
    "#2\n",
    "#параметры\n",
    "l = 3\n",
    "a = -5\n",
    "b = 20\n",
    "process = []\n",
    "f = l/(l*(b-a))\n",
    "\n",
    "#процесс\n",
    "s = a\n",
    "while s < b:\n",
    "    x = scipy.stats.expon.rvs(scale=1/l)\n",
    "    s += x\n",
    "    process.append(x)\n",
    "process.pop()\n",
    "process = np.cumsum(np.array(process))+a\n",
    "\n",
    "F = scipy.stats.uniform(loc=a,scale=b-a)\n",
    "T = scipy.stats.kstest(process,F.cdf).pvalue\n",
    "print(process)\n",
    "if T < 0.05:\n",
    "    print('не равномерны')\n",
    "else:\n",
    "    print('равномерны')"
   ]
  },
  {
   "cell_type": "code",
   "execution_count": 11,
   "id": "e55bc01a-8248-4b63-8e04-4b1dd0b734f8",
   "metadata": {},
   "outputs": [
    {
     "data": {
      "image/png": "[encoded data removed]",
      "text/plain": [
       "<Figure size 1500x200 with 1 Axes>"
      ]
     },
     "metadata": {},
     "output_type": "display_data"
    },
    {
     "name": "stdout",
     "output_type": "stream",
     "text": [
      "Поток цвета 0 пуассоновский: True\n",
      "Поток цвета 1 пуассоновский: True\n",
      "Поток цвета 2 пуассоновский: True\n"
     ]
    }
   ],
   "source": [
    "#3 (a)\n",
    "#параметры\n",
    "l = 1\n",
    "a = -100\n",
    "b = 100\n",
    "poiss = []\n",
    "p = [1/3,1/6,1/2]\n",
    "\n",
    "#процесс\n",
    "s = a\n",
    "while s < b:\n",
    "    x = scipy.stats.expon.rvs(scale=1/l)\n",
    "    s += x\n",
    "    poiss.append(x)\n",
    "poiss.pop()\n",
    "poiss = np.cumsum(poiss)+a\n",
    "poiss_color = [[],[],[]]\n",
    "for i in range(len(poiss)):\n",
    "    color = scipy.stats.multinomial.rvs(n=1,p=p)\n",
    "    color = np.where(color == 1)[0][0]\n",
    "    poiss_color[color].append(poiss[i])\n",
    "\n",
    "#визуализация\n",
    "fig,ax = plt.subplots(1,1,figsize=(15,2))\n",
    "ax.scatter(poiss_color[0],np.zeros(len(poiss_color[0])),color='red')\n",
    "ax.scatter(poiss_color[1],np.zeros(len(poiss_color[1])),color='blue')\n",
    "ax.scatter(poiss_color[2],np.zeros(len(poiss_color[2])),color='green')\n",
    "ax.plot([-10,10],[0,0],color='black',alpha=0.25)\n",
    "plt.show()\n",
    "\n",
    "#проверка на экспоненциальность\n",
    "def exp_test(x,l):\n",
    "    global a,b\n",
    "    y = np.zeros(len(x))\n",
    "    y[0] = x[0]-a\n",
    "    for i in range(1,len(x)):\n",
    "        y[i] = x[i]-x[i-1]\n",
    "    F = scipy.stats.expon(scale=1/l)\n",
    "    T = scipy.stats.kstest(y,F.cdf).pvalue\n",
    "    if T > 0.05:\n",
    "        return True\n",
    "    else:\n",
    "        return T\n",
    "\n",
    "print('Поток цвета 0 пуассоновский:',exp_test(poiss_color[0],p[0]*l))\n",
    "print('Поток цвета 1 пуассоновский:',exp_test(poiss_color[1],p[1]*l))\n",
    "print('Поток цвета 2 пуассоновский:',exp_test(poiss_color[2],p[2]*l))"
   ]
  },
  {
   "cell_type": "code",
   "execution_count": 13,
   "id": "10dbc494-02b9-4b09-8053-81eff03e3d40",
   "metadata": {},
   "outputs": [
    {
     "name": "stdout",
     "output_type": "stream",
     "text": [
      "Потоки разных цветов независимы\n"
     ]
    }
   ],
   "source": [
    "#3 (b)\n",
    "#доп.параметры\n",
    "n = 50\n",
    "intervals = np.linspace(a,b,n+1)\n",
    "counts = np.zeros((n,3))\n",
    "\n",
    "#считаем попадание в интервалы\n",
    "for i in range(n):\n",
    "    c_0 = np.sum((np.array(poiss_color[0]) >= intervals[i])*(np.array(poiss_color[0]) < intervals[i+1]))\n",
    "    c_1 = np.sum((np.array(poiss_color[1]) >= intervals[i])*(np.array(poiss_color[1]) < intervals[i+1]))\n",
    "    c_2 = np.sum((np.array(poiss_color[2]) >= intervals[i])*(np.array(poiss_color[2]) < intervals[i+1]))\n",
    "    counts[i][0] = c_0\n",
    "    counts[i][1] = c_1\n",
    "    counts[i][2] = c_2\n",
    "\n",
    "#проверка независимости\n",
    "counts = np.array(counts).T\n",
    "max_0 = int(np.max(counts[0]))\n",
    "max_1 = int(np.max(counts[1]))\n",
    "max_2 = int(np.max(counts[2]))\n",
    "nu = np.zeros((max_0,max_1,max_2))\n",
    "for i in range(max_0):\n",
    "    for j in range(max_1):\n",
    "        for k in range(max_2):\n",
    "            nu[i][j][k] = np.sum((counts[0] == i)&(counts[1] == j)&(counts[2] == k))\n",
    "T = 0\n",
    "for i in range(max_0):\n",
    "    for j in range(max_1):\n",
    "        for k in range(max_2):\n",
    "            T += ((nu[i][j][k] - (np.sum(np.sum(nu,axis=1),axis=1)[i]*np.sum(np.sum(nu,axis=0),axis=1)[j]*np.sum(np.sum(nu,axis=0),axis=0)[k]/n**2))**2)/(np.sum(np.sum(nu,axis=1),axis=1)[i]*np.sum(np.sum(nu,axis=0),axis=1)[j]*np.sum(np.sum(nu,axis=0),axis=0)[k]/n**2)\n",
    "df = max_0*max_1*max_2 -(max_0+max_1+max_2)+2\n",
    "q = scipy.stats.chi2.ppf(1-0.05,df=df)\n",
    "if T < q:\n",
    "    print('Потоки разных цветов независимы')\n",
    "else:\n",
    "    print('Потоки разных цветов зависимы')"
   ]
  },
  {
   "cell_type": "code",
   "execution_count": 104,
   "id": "62c57687-7c8d-4f66-96ab-11e7d10e7c35",
   "metadata": {},
   "outputs": [
    {
     "data": {
      "image/png": "[encoded data removed]",
      "text/plain": [
       "<Figure size 640x480 with 1 Axes>"
      ]
     },
     "metadata": {},
     "output_type": "display_data"
    }
   ],
   "source": [
    "#4 (a)\n",
    "l = 2\n",
    "t = 1000\n",
    "N = 100\n",
    "excess = np.zeros(N)\n",
    "\n",
    "#процесс\n",
    "for i in range(N):\n",
    "    s = 0\n",
    "    while s < t:\n",
    "        X = scipy.stats.expon.rvs(scale=1/l)\n",
    "        s += X\n",
    "    excess[i] = s-t\n",
    "\n",
    "plt.hist(excess,bins=20,density=True)\n",
    "a = np.min(excess)\n",
    "b = np.max(excess)\n",
    "x = np.linspace(a,b,100)\n",
    "plt.plot(x,scipy.stats.expon.pdf(x,scale=1/l))\n",
    "plt.show()"
   ]
  },
  {
   "cell_type": "code",
   "execution_count": 105,
   "id": "c499d694-a0e8-48ed-834f-36fdd8fd651f",
   "metadata": {},
   "outputs": [
    {
     "data": {
      "image/png": "[encoded data removed]",
      "text/plain": [
       "<Figure size 640x480 with 1 Axes>"
      ]
     },
     "metadata": {},
     "output_type": "display_data"
    }
   ],
   "source": [
    "#4 (b)\n",
    "t = 1000\n",
    "N = 100\n",
    "excess = np.zeros(N)\n",
    "\n",
    "#процесс\n",
    "for i in range(N):\n",
    "    s = 0\n",
    "    while s < t:\n",
    "        X = scipy.stats.uniform.rvs()\n",
    "        s += X\n",
    "    excess[i] = s-t\n",
    "\n",
    "plt.hist(excess,bins=20,density=True)\n",
    "a = np.min(excess)\n",
    "b = np.max(excess)\n",
    "x = np.linspace(a,b,100)\n",
    "plt.plot(x,scipy.stats.uniform.pdf(x))\n",
    "plt.show()"
   ]
  },
  {
   "cell_type": "code",
   "execution_count": null,
   "id": "8692165b-daea-4c0f-b115-9bb8ad5b0821",
   "metadata": {},
   "outputs": [],
   "source": []
  }
 ],
 "metadata": {
  "kernelspec": {
   "display_name": "Python 3 (ipykernel)",
   "language": "python",
   "name": "python3"
  },
  "language_info": {
   "codemirror_mode": {
    "name": "ipython",
    "version": 3
   },
   "file_extension": ".py",
   "mimetype": "text/x-python",
   "name": "python",
   "nbconvert_exporter": "python",
   "pygments_lexer": "ipython3",
   "version": "3.10.11"
  }
 },
 "nbformat": 4,
 "nbformat_minor": 5
}
