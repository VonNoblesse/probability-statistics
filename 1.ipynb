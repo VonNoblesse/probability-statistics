{
 "cells": [
  {
   "cell_type": "code",
   "execution_count": 1,
   "id": "bb07ae41",
   "metadata": {},
   "outputs": [],
   "source": [
    "import random\n",
    "import math\n",
    "import statistics as stat\n",
    "X = [random.gauss(0,math.sqrt(2)) for i in range(100)]"
   ]
  },
  {
   "cell_type": "code",
   "execution_count": 3,
   "id": "2099addb",
   "metadata": {},
   "outputs": [
    {
     "name": "stdout",
     "output_type": "stream",
     "text": [
      "0.1623124045809579    медиана\n",
      "0.08684833537108085    выборочное среднее\n",
      "1.8700403420215341    выборочная дисперсия\n"
     ]
    }
   ],
   "source": [
    "#1.1\n",
    "print(stat.median(X), '   медиана')\n",
    "print(stat.mean(X), '   выборочное среднее')\n",
    "print(stat.pstdev(X) ** 2, '   выборочная дисперсия')"
   ]
  },
  {
   "cell_type": "code",
   "execution_count": 4,
   "id": "39361074",
   "metadata": {},
   "outputs": [
    {
     "name": "stdout",
     "output_type": "stream",
     "text": [
      "0.05851367727110456\n"
     ]
    }
   ],
   "source": [
    "#1.2\n",
    "print(stat.mean([math.sin(x) for x in X]))"
   ]
  },
  {
   "cell_type": "code",
   "execution_count": 7,
   "id": "a6f42288",
   "metadata": {},
   "outputs": [
    {
     "data": {
      "text/plain": [
       "[1.0383907470909632,\n",
       " 2.6988901430946948,\n",
       " 0.0949169090525851,\n",
       " 0.07840996172797027,\n",
       " 0.9364356346615318,\n",
       " 0.9486495431181797,\n",
       " 0.7134408142783716,\n",
       " 1.24333784102149,\n",
       " 0.3493293987635305,\n",
       " 1.3967318341141168,\n",
       " 2.3022918836567583,\n",
       " 2.075469748013069,\n",
       " 0.11468811649596622,\n",
       " 0.05246787864514916,\n",
       " 0.9620025108548262,\n",
       " 0.3493070237124471,\n",
       " 1.2465361373914523,\n",
       " 1.9593983278919143,\n",
       " 0.4712508972860761,\n",
       " 5.274966817506143,\n",
       " 1.4873204523797612,\n",
       " 0.7405473801748751,\n",
       " 0.2340683514060664,\n",
       " 0.07120081638566751,\n",
       " 0.151224519195079,\n",
       " 1.2398916063763288,\n",
       " 0.8067059993276557,\n",
       " 0.665635796370896,\n",
       " 1.5934085107994858,\n",
       " 2.344417799409708,\n",
       " 0.4737875422744268,\n",
       " 1.3580168682601363,\n",
       " 0.6005691561545061,\n",
       " 0.6596449189140454,\n",
       " 0.002263899937018947,\n",
       " 0.8731518781847435,\n",
       " 1.115491516584479,\n",
       " 0.9104046863760671,\n",
       " 0.24221342857045236,\n",
       " 0.48071122731248334,\n",
       " 1.6334623283006842,\n",
       " 0.17569973522426757,\n",
       " 0.8217315409860125,\n",
       " 1.3622729671224778,\n",
       " 0.15577020203940747,\n",
       " 0.4571330523450795,\n",
       " 0.5653521940378685,\n",
       " 0.686939073434679,\n",
       " 0.1688546071225083,\n",
       " 2.5887912566542783,\n",
       " 2.637304290308831,\n",
       " 0.4449196176937132,\n",
       " 1.1574288977020664,\n",
       " 0.4398646329829843,\n",
       " 1.1147963075988578,\n",
       " 1.3547970810589736,\n",
       " 1.0389683656838424,\n",
       " 0.5795753283370034]"
      ]
     },
     "execution_count": 7,
     "metadata": {},
     "output_type": "execute_result"
    }
   ],
   "source": [
    "#1.3\n",
    "Y = [x for x in X if x > 0]\n",
    "Y"
   ]
  },
  {
   "cell_type": "code",
   "execution_count": 8,
   "id": "9b046b7a",
   "metadata": {},
   "outputs": [
    {
     "name": "stdout",
     "output_type": "stream",
     "text": [
      "23\n"
     ]
    }
   ],
   "source": [
    "#1.4\n",
    "s = 0\n",
    "condition = 101\n",
    "for i in range(100):\n",
    "    s += X[i]\n",
    "    if s > 3:\n",
    "        condition = i + 1\n",
    "        break\n",
    "print(condition)"
   ]
  },
  {
   "cell_type": "code",
   "execution_count": null,
   "id": "223a3cf4",
   "metadata": {},
   "outputs": [],
   "source": []
  }
 ],
 "metadata": {
  "kernelspec": {
   "display_name": "Python 3",
   "language": "python",
   "name": "python3"
  },
  "language_info": {
   "codemirror_mode": {
    "name": "ipython",
    "version": 3
   },
   "file_extension": ".py",
   "mimetype": "text/x-python",
   "name": "python",
   "nbconvert_exporter": "python",
   "pygments_lexer": "ipython3",
   "version": "3.8.8"
  }
 },
 "nbformat": 4,
 "nbformat_minor": 5
}
