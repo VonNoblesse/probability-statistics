{
 "cells": [
  {
   "cell_type": "code",
   "execution_count": 1,
   "id": "dcf0ea42-b798-484e-b785-970ef113f41b",
   "metadata": {},
   "outputs": [],
   "source": [
    "import numpy as np\n",
    "import scipy \n",
    "import matplotlib.pyplot as plt\n",
    "import pandas as pd"
   ]
  },
  {
   "cell_type": "code",
   "execution_count": 285,
   "id": "5ba64c5a-8d2f-4fb1-9330-cfd22065ed2a",
   "metadata": {},
   "outputs": [
    {
     "name": "stdout",
     "output_type": "stream",
     "text": [
      "pi =\n",
      " [0.2 0.3 0.3 0.2] \n",
      "\n",
      "P ** 20 =\n",
      " [[0.2039 0.2914 0.3086 0.1961]\n",
      " [0.1943 0.3125 0.2875 0.2057]\n",
      " [0.2057 0.2875 0.3125 0.1943]\n",
      " [0.1961 0.3086 0.2914 0.2039]]\n"
     ]
    }
   ],
   "source": [
    "#1\n",
    "#(a)\n",
    "#параметры\n",
    "n = 4\n",
    "P = np.array([[1/4,3/4,0,0],[1/2,0,1/2,0],[0,1/2,0,1/2],[0,0,3/4,1/4]])\n",
    "\n",
    "\n",
    "#стационарное распределение\n",
    "x = np.linalg.eig(np.transpose(P))\n",
    "st_dist = np.zeros(n)\n",
    "for i in range(n):\n",
    "    if x[0][i] == 1:\n",
    "        st_dist = x[1][:,i]\n",
    "        \n",
    "st_dist = np.abs(st_dist)\n",
    "st_dist = st_dist / np.sum(st_dist)\n",
    "if st_dist.any() == 0:\n",
    "    print('нет предельного распределения')\n",
    "else:\n",
    "    print('pi =\\n',np.round(st_dist,4),'\\n')\n",
    "\n",
    "\n",
    "#степени\n",
    "n = 20\n",
    "print('P **',n,'=\\n',np.round(np.linalg.matrix_power(P,n),4))"
   ]
  },
  {
   "cell_type": "code",
   "execution_count": 286,
   "id": "49929311-9e35-4764-ac6d-bf7203e3d3f6",
   "metadata": {},
   "outputs": [
    {
     "name": "stdout",
     "output_type": "stream",
     "text": [
      "pi =\n",
      " [0.2727 0.2273 0.1818 0.3182] \n",
      "\n",
      "P ** 20 =\n",
      " [[0.2727 0.2273 0.1818 0.3182]\n",
      " [0.2727 0.2273 0.1818 0.3182]\n",
      " [0.2727 0.2273 0.1818 0.3182]\n",
      " [0.2727 0.2273 0.1818 0.3182]]\n"
     ]
    }
   ],
   "source": [
    "#1\n",
    "#(b)\n",
    "#параметры\n",
    "n = 4\n",
    "eps = 0.05\n",
    "P = np.array([[2/9,1/3,0,4/9],[4/9,1/9,0,4/9],[2/9,2/9,2/9,1/3],[2/9,2/9,4/9,1/9]])\n",
    "\n",
    "\n",
    "#стационарное распределение\n",
    "x = np.linalg.eig(np.transpose(P))\n",
    "st_dist = np.zeros(n)\n",
    "for i in range(n):\n",
    "    if 1-eps < x[0][i] and x[0][i] < 1+eps:\n",
    "        st_dist = x[1][:,i]\n",
    "\n",
    "if np.sum(st_dist) == 0:\n",
    "    print('нет предельного распределения')\n",
    "else:\n",
    "    st_dist = np.abs(st_dist)\n",
    "    st_dist = st_dist / np.sum(st_dist)\n",
    "    print('pi =\\n',np.round(st_dist,4),'\\n')\n",
    "\n",
    "\n",
    "#степени\n",
    "n = 20\n",
    "print('P **',n,'=\\n',np.round(np.linalg.matrix_power(P,n),4))"
   ]
  },
  {
   "cell_type": "code",
   "execution_count": 287,
   "id": "41fe2633-0a38-4f8b-879d-90fe2a23e3be",
   "metadata": {},
   "outputs": [
    {
     "name": "stdout",
     "output_type": "stream",
     "text": [
      "pi =\n",
      " [0.1383 0.1596 0.3617 0.3404] \n",
      "\n",
      "P ** 20 =\n",
      " [[0.2766 0.     0.7234 0.    ]\n",
      " [0.     0.3191 0.     0.6809]\n",
      " [0.2766 0.     0.7234 0.    ]\n",
      " [0.     0.3191 0.     0.6809]]\n"
     ]
    }
   ],
   "source": [
    "#1\n",
    "#(c) тут цепь периодическая d=2\n",
    "n = 4\n",
    "eps = 0.05\n",
    "P = np.array([[0,1/2,0,1/2],[1/3,0,2/3,0],[0,1/4,0,3/4],[1/4,0,3/4,0]])\n",
    "\n",
    "\n",
    "#стационарное распределение\n",
    "x = np.linalg.eig(np.transpose(P))\n",
    "st_dist = np.zeros(n)\n",
    "for i in range(n):\n",
    "    if 1-eps < x[0][i] and x[0][i] < 1+eps:\n",
    "        st_dist = x[1][:,i]\n",
    "\n",
    "if np.sum(st_dist) == 0:\n",
    "    print('нет предельного распределения')\n",
    "else:\n",
    "    st_dist = np.abs(st_dist)\n",
    "    st_dist = st_dist / np.sum(st_dist)\n",
    "    print('pi =\\n',np.round(st_dist,4),'\\n')\n",
    "\n",
    "\n",
    "#степени\n",
    "n = 20\n",
    "print('P **',n,'=\\n',np.round(np.linalg.matrix_power(P,n),4))"
   ]
  },
  {
   "cell_type": "code",
   "execution_count": 288,
   "id": "ad53d40f-1d75-440a-8346-32ec92c0d825",
   "metadata": {},
   "outputs": [
    {
     "name": "stdout",
     "output_type": "stream",
     "text": [
      "pi_1 =\n",
      " [0.  0.6 0.  0.4 0. ] \n",
      "\n",
      "pi_2 =\n",
      " [0.  0.  0.5 0.  0.5] \n",
      "\n",
      "P ** 20 =\n",
      " [[0.     0.4801 0.0286 0.3199 0.1714]\n",
      " [0.     0.6001 0.     0.3999 0.    ]\n",
      " [0.     0.     1.     0.     0.    ]\n",
      " [0.     0.5998 0.     0.4002 0.    ]\n",
      " [0.     0.     0.     0.     1.    ]]\n"
     ]
    }
   ],
   "source": [
    "#1\n",
    "#(d) тут цепь разложима {24},{35},1-несущественное\n",
    "n = 5\n",
    "eps = 0.05\n",
    "P = np.array([[1/6,1/6,1/6,1/2,0],[0,1/3,0,2/3,0],[0,0,0,0,1],[0,1,0,0,0],[0,0,1,0,0]])\n",
    "\n",
    "\n",
    "#стационарное распределение, нужно расмотреть предел в разных блоках\n",
    "#{24}\n",
    "n_1 = 2\n",
    "S = [2,4]\n",
    "S = np.array(S)-1\n",
    "P_1 = np.zeros((2,2))\n",
    "for i in range(2):\n",
    "    for j in range(2):\n",
    "        P_1[i][j] = P[S[i]][S[j]]\n",
    "\n",
    "x = np.linalg.eig(np.transpose(P_1))\n",
    "st_dist = np.zeros(n)\n",
    "for i in range(n_1):\n",
    "    if 1-eps < x[0][i] and x[0][i] < 1+eps:\n",
    "        k = 0\n",
    "        for j in range(n):\n",
    "            if j in S:\n",
    "                st_dist[j] = x[1][:,i][k]\n",
    "                k += 1\n",
    "\n",
    "if np.sum(st_dist) == 0:\n",
    "    print('нет предельного распределения')\n",
    "else:\n",
    "    st_dist = np.abs(st_dist)\n",
    "    st_dist = st_dist / np.sum(st_dist)\n",
    "    print('pi_1 =\\n',np.round(st_dist,4),'\\n')\n",
    "\n",
    "\n",
    "#{35}\n",
    "n_1 = 2\n",
    "S = [3,5]\n",
    "S = np.array(S)-1\n",
    "P_1 = np.zeros((2,2))\n",
    "for i in range(2):\n",
    "    for j in range(2):\n",
    "        P_1[i][j] = P[S[i]][S[j]]\n",
    "\n",
    "x = np.linalg.eig(np.transpose(P_1))\n",
    "st_dist = np.zeros(n)\n",
    "for i in range(n_1):\n",
    "    if 1-eps < x[0][i] and x[0][i] < 1+eps:\n",
    "        k = 0\n",
    "        for j in range(n):\n",
    "            if j in S:\n",
    "                st_dist[j] = x[1][:,i][k]\n",
    "                k += 1\n",
    "\n",
    "if np.sum(st_dist) == 0:\n",
    "    print('нет предельного распределения')\n",
    "else:\n",
    "    st_dist = np.abs(st_dist)\n",
    "    st_dist = st_dist / np.sum(st_dist)\n",
    "    print('pi_2 =\\n',np.round(st_dist,4),'\\n')\n",
    "\n",
    "\n",
    "#степени\n",
    "n = 20\n",
    "print('P **',n,'=\\n',np.round(np.linalg.matrix_power(P,n),4))"
   ]
  },
  {
   "cell_type": "code",
   "execution_count": 292,
   "id": "60d7bc07-3aec-4b83-a573-c02bbebafb14",
   "metadata": {},
   "outputs": [
    {
     "name": "stdout",
     "output_type": "stream",
     "text": [
      "pi =\n",
      " [0.4737 0.2105 0.3158] \n",
      "\n",
      "траектория:\n",
      " [0. 2. 1. 0. 2. 1. 2. 0. 1. 2. 0. 0. 0. 0. 2. 2. 2. 1. 0. 0.] \n",
      "\n",
      "доли посещений состояний:\n",
      " [0.452 0.191 0.357] \n",
      "\n"
     ]
    },
    {
     "data": {
      "image/png": "[encoded data removed]",
      "text/plain": [
       "<Figure size 400x400 with 1 Axes>"
      ]
     },
     "metadata": {},
     "output_type": "display_data"
    }
   ],
   "source": [
    "#2\n",
    "#параметры\n",
    "P = np.array([[1/3,1/3,1/3],[3/4,0,1/4],[1/2,1/6,1/3]])\n",
    "k = 3\n",
    "\n",
    "\n",
    "#стационарное распределение\n",
    "x = np.linalg.eig(np.transpose(P))\n",
    "st_dist = np.zeros(k)\n",
    "for i in range(k):\n",
    "    if 1-eps < x[0][i] and x[0][i] < 1+eps:\n",
    "        st_dist = x[1][:,i]\n",
    "\n",
    "if np.sum(st_dist) == 0:\n",
    "    print('нет предельного распределения')\n",
    "else:\n",
    "    st_dist = np.abs(st_dist)\n",
    "    st_dist = st_dist / np.sum(st_dist)\n",
    "    print('pi =\\n',np.round(st_dist,4),'\\n')\n",
    "\n",
    "\n",
    "#траектория цепи\n",
    "p_0 = 1 #начальное состояние цепи\n",
    "p_0 -= 1\n",
    "n = 20\n",
    "\n",
    "traj = np.zeros(n) \n",
    "state = p_0\n",
    "for i in range(n):\n",
    "    traj[i] = state\n",
    "    x = scipy.stats.multinomial.rvs(n=1,p=P[state])\n",
    "    state = np.where(x == 1)[0][0]\n",
    "print('траектория:\\n',traj,'\\n')\n",
    "\n",
    "\n",
    "#доли посещений\n",
    "n = 1000\n",
    "times = np.zeros(3) \n",
    "state = p_0\n",
    "for i in range(n):\n",
    "    times[state] += 1\n",
    "    x = scipy.stats.multinomial.rvs(n=1,p=P[state])\n",
    "    state = np.where(x == 1)[0][0]\n",
    "print('доли посещений состояний:\\n',times/n,'\\n')\n",
    "\n",
    "\n",
    "#предельная теорема\n",
    "N = 1000\n",
    "n = 100\n",
    "state = p_0\n",
    "times = np.zeros(N)\n",
    "\n",
    "for j in range(N): \n",
    "    for i in range(n):\n",
    "        if state == 0:\n",
    "            times[j] += 1\n",
    "        x = scipy.stats.multinomial.rvs(n=1,p=P[state])\n",
    "        state = np.where(x == 1)[0][0]\n",
    "    times[j] = (times[j]/n - st_dist[0]) * np.sqrt(n)\n",
    "\n",
    "fig,ax = plt.subplots(1,1,figsize=(4,4))\n",
    "ax.hist(times,density=True,bins=20)\n",
    "plt.show()"
   ]
  },
  {
   "cell_type": "code",
   "execution_count": 8,
   "id": "5eea1a05-6af0-4bce-989b-30c4ccda20b0",
   "metadata": {},
   "outputs": [
    {
     "name": "stdout",
     "output_type": "stream",
     "text": [
      "{0, 37}\n",
      "{1, 2, 5, 7, 9, 10, 11, 12, 13, 14, 15, 19, 20, 21, 25, 26, 27, 28, 29, 30, 32, 33, 34, 35, 42, 43, 44, 47, 49}\n",
      "{48, 17, 3}\n",
      "{4, 41, 46, 16, 18, 22}\n",
      "{36, 6, 38, 8, 40, 45, 23, 24}\n",
      "{39, 31}\n",
      "все состояния обработаны\n"
     ]
    }
   ],
   "source": [
    "#3\n",
    "#параметры\n",
    "f = open('MarkovChain.txt')\n",
    "P = f.readlines()\n",
    "f.close()\n",
    "n = np.size(P)\n",
    "P = np.array(P)\n",
    "P = np.array([P[i][:-1].split(';') for i in range(len(P))])\n",
    "P = P.astype(float)\n",
    "states = np.arange(n)\n",
    "classes = [] #теперь изначально все состояния в своем классе\n",
    "\n",
    "\n",
    "#считаем классы\n",
    "def create_class(i,class_):\n",
    "    global P\n",
    "    for j in range(n):\n",
    "        if P[i][j] > 0 and not j in class_:\n",
    "            class_.add(j)\n",
    "            create_class(j,class_)\n",
    "    return class_\n",
    "\n",
    "\n",
    "for i in range(n):\n",
    "    check = 0\n",
    "    for class_ in classes:\n",
    "        if i in class_:\n",
    "            check = 1\n",
    "            break\n",
    "    if check == 0:\n",
    "        class_ = set([i])\n",
    "        create_class(i,class_)\n",
    "        classes.append(class_)\n",
    "    \n",
    "\n",
    "processed = set()\n",
    "for i in range(len(classes)):\n",
    "    processed = processed.union(classes[i])\n",
    "    print(classes[i])\n",
    "if processed == set(range(n)):\n",
    "    print('все состояния обработаны')\n",
    "else:\n",
    "    print('необработанные состояния:',set(range(n)).difference(processed))"
   ]
  },
  {
   "cell_type": "code",
   "execution_count": 300,
   "id": "d5f20496-d42b-4998-b451-a27765ffc9be",
   "metadata": {},
   "outputs": [
    {
     "name": "stdout",
     "output_type": "stream",
     "text": [
      "P =\n",
      " [[0.         0.         0.5        0.5       ]\n",
      " [0.         0.         0.         1.        ]\n",
      " [0.5        0.         0.         0.5       ]\n",
      " [0.33333333 0.33333333 0.33333333 0.        ]] \n",
      "\n",
      "pi =\n",
      " [0.25  0.125 0.25  0.375] \n",
      "\n",
      "P' =\n",
      " [[0.         0.         0.5        0.5       ]\n",
      " [0.         0.         0.         1.        ]\n",
      " [0.5        0.         0.         0.5       ]\n",
      " [0.33333333 0.33333333 0.33333333 0.        ]]\n"
     ]
    }
   ],
   "source": [
    "#4\n",
    "#параметры\n",
    "P = np.array([[0,0,1/2,1/2],[0,0,0,1],[1/2,0,0,1/2],[1/3,1/3,1/3,0]])\n",
    "k = 4\n",
    "print('P =\\n',P,'\\n')\n",
    "\n",
    "#стационарное распределение\n",
    "x = np.linalg.eig(np.transpose(P))\n",
    "st_dist = np.zeros(k)\n",
    "for i in range(k):\n",
    "    if 1-eps < x[0][i] and x[0][i] < 1+eps:\n",
    "        st_dist = x[1][:,i]\n",
    "\n",
    "if np.sum(st_dist) == 0:\n",
    "    print('нет предельного распределения')\n",
    "else:\n",
    "    st_dist = np.abs(st_dist)\n",
    "    st_dist = st_dist / np.sum(st_dist)\n",
    "    print('pi =\\n',np.round(st_dist,4),'\\n')\n",
    "\n",
    "\n",
    "#строим матрицу обратной ЦМ\n",
    "P_ = np.zeros((k,k))\n",
    "for i in range(k):\n",
    "    for j in range(k):\n",
    "        P_[i][j] = P[j][i]*st_dist[j] / st_dist[i]\n",
    "print(\"P' =\\n\",P_)"
   ]
  },
  {
   "cell_type": "code",
   "execution_count": 302,
   "id": "eed8a478-46b3-4ed9-a92e-4ffb0ef0c942",
   "metadata": {},
   "outputs": [
    {
     "name": "stdout",
     "output_type": "stream",
     "text": [
      "0.97\n"
     ]
    }
   ],
   "source": [
    "#5\n",
    "#(a) на прямой\n",
    "n = 1000\n",
    "N = 100\n",
    "pr = 0 #вероятность возвращения\n",
    "for i in range(N):\n",
    "    check = 0\n",
    "    S = 0\n",
    "    for i in range(n):\n",
    "        X = scipy.stats.bernoulli.rvs(p=1/2)*2-1\n",
    "        S += X\n",
    "        if S == 0:\n",
    "            check = 1\n",
    "            break\n",
    "    if check == 1:\n",
    "        pr += 1\n",
    "print(pr/N)"
   ]
  },
  {
   "cell_type": "code",
   "execution_count": 309,
   "id": "4fad06be-3268-47b1-93d3-dd9b7699e6a8",
   "metadata": {},
   "outputs": [
    {
     "name": "stdout",
     "output_type": "stream",
     "text": [
      "0.74\n"
     ]
    }
   ],
   "source": [
    "#5\n",
    "#(b) на плоскости\n",
    "n = 1000\n",
    "N = 100\n",
    "pr = 0 #вероятность возвращения\n",
    "for i in range(N):\n",
    "    check = 0\n",
    "    S = [0,0]\n",
    "    for i in range(n):\n",
    "        direction = scipy.stats.bernoulli.rvs(p=1/2)\n",
    "        X = scipy.stats.bernoulli.rvs(p=1/2)*2-1\n",
    "        S[direction] += X\n",
    "        if S[0] == 0 and S[1] == 0:\n",
    "            check = 1\n",
    "            break\n",
    "    if check == 1:\n",
    "        pr += 1\n",
    "print(pr/N)"
   ]
  },
  {
   "cell_type": "code",
   "execution_count": 312,
   "id": "499f4849-25b0-4143-a209-275e923b5ec5",
   "metadata": {},
   "outputs": [
    {
     "name": "stdout",
     "output_type": "stream",
     "text": [
      "0.36\n"
     ]
    }
   ],
   "source": [
    "#5\n",
    "#(c) в пространстве\n",
    "n = 1000\n",
    "N = 100\n",
    "pr = 0 #вероятность возвращения\n",
    "for i in range(N):\n",
    "    check = 0\n",
    "    S = [0,0,0]\n",
    "    for i in range(n):\n",
    "        direction = scipy.stats.multinomial.rvs(n=1,p=[1/3,1/3,1/3])\n",
    "        direction = np.where(direction == 1)[0][0]\n",
    "        X = scipy.stats.bernoulli.rvs(p=1/2)*2-1\n",
    "        S[direction] += X\n",
    "        if S[0] == 0 and S[1] == 0 and S[2] == 0:\n",
    "            check = 1\n",
    "            break\n",
    "    if check == 1:\n",
    "        pr += 1\n",
    "print(pr/N)"
   ]
  },
  {
   "cell_type": "code",
   "execution_count": null,
   "id": "a7aa0aaf-f3df-4fa2-920b-f680c99019c4",
   "metadata": {},
   "outputs": [],
   "source": []
  }
 ],
 "metadata": {
  "kernelspec": {
   "display_name": "Python 3 (ipykernel)",
   "language": "python",
   "name": "python3"
  },
  "language_info": {
   "codemirror_mode": {
    "name": "ipython",
    "version": 3
   },
   "file_extension": ".py",
   "mimetype": "text/x-python",
   "name": "python",
   "nbconvert_exporter": "python",
   "pygments_lexer": "ipython3",
   "version": "3.10.11"
  }
 },
 "nbformat": 4,
 "nbformat_minor": 5
}
